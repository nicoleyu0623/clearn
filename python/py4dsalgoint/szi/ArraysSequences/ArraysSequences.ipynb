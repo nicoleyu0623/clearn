{
 "cells": [
  {
   "cell_type": "code",
   "execution_count": 2,
   "metadata": {
    "collapsed": true,
    "pycharm": {
     "is_executing": false
    }
   },
   "outputs": [],
   "source": [
    "from pprint import pprint as pp"
   ]
  },
  {
   "cell_type": "markdown",
   "source": [
    "##### shallow copy of list with immutable objects"
   ],
   "metadata": {
    "collapsed": false,
    "pycharm": {
     "name": "#%% md\n"
    }
   }
  },
  {
   "cell_type": "code",
   "execution_count": 3,
   "outputs": [
    {
     "data": {
      "text/plain": "['aa', 'bb']"
     },
     "metadata": {},
     "output_type": "execute_result",
     "execution_count": 3
    }
   ],
   "source": [
    "#list of mutable objects\n",
    "l1 = ['aa', 'bb']\n",
    "l2=list(l1) #shallow copy\n",
    "l1[0] = 'zz'\n",
    "l2\n",
    "# we observe that immutable objects are copyied ok with shallow copy"
   ],
   "metadata": {
    "collapsed": false,
    "pycharm": {
     "name": "#%%\n",
     "is_executing": false
    }
   }
  },
  {
   "cell_type": "markdown",
   "source": [
    "##### shallow copy of list of mutable objects"
   ],
   "metadata": {
    "collapsed": false
   }
  },
  {
   "cell_type": "code",
   "execution_count": 8,
   "outputs": [],
   "source": [
    "class Square:\n",
    "    def __init__(self, side):\n",
    "        self._side =side\n",
    "    def __repr__(self):\n",
    "        return str('square:{}'.format(self._side))"
   ],
   "metadata": {
    "collapsed": false,
    "pycharm": {
     "name": "#%%\n",
     "is_executing": false
    }
   }
  },
  {
   "cell_type": "code",
   "execution_count": 15,
   "outputs": [
    {
     "name": "stdout",
     "text": [
      "[square:11, square:2]\n"
     ],
     "output_type": "stream"
    }
   ],
   "source": [
    "s1=Square(1)\n",
    "s2=Square(2)\n",
    "l1=[s1,s2]\n",
    "l2=list(l1) #shallow copy\n",
    "#now modify l1\n",
    "l1[0]._side = 11\n",
    "pp(l2)\n",
    "#we observe that l2 is modified"
   ],
   "metadata": {
    "collapsed": false,
    "pycharm": {
     "name": "#%%\n",
     "is_executing": false
    }
   }
  },
  {
   "cell_type": "markdown",
   "source": [
    "### dynamic arrays"
   ],
   "metadata": {
    "collapsed": false,
    "pycharm": {
     "name": "#%% md\n"
    }
   }
  },
  {
   "cell_type": "code",
   "execution_count": 22,
   "outputs": [
    {
     "name": "stdout",
     "text": [
      "Length: 0; size in bytes: 64\nLength: 1; size in bytes: 96\nLength: 2; size in bytes: 96\nLength: 3; size in bytes: 96\nLength: 4; size in bytes: 96\nLength: 5; size in bytes: 128\nLength: 6; size in bytes: 128\nLength: 7; size in bytes: 128\nLength: 8; size in bytes: 128\nLength: 9; size in bytes: 192\n"
     ],
     "output_type": "stream"
    }
   ],
   "source": [
    "import sys \n",
    "n=10\n",
    "data = []\n",
    "for i in range(n):\n",
    "    a=len(data)\n",
    "    #actual size in bytes\n",
    "    b = sys.getsizeof(data)\n",
    "    print('Length: {}; size in bytes: {}'.format(a,b))\n",
    "    #increase length by one\n",
    "    data.append(n)"
   ],
   "metadata": {
    "collapsed": false,
    "pycharm": {
     "name": "#%%\n",
     "is_executing": false
    }
   }
  },
  {
   "cell_type": "markdown",
   "source": [
    "###### list allocates additional memory in bytes\n",
    "\n",
    "#### basic implementaton of dynamic array memory allocation\n",
    "* create a bigger array B\n",
    "* store elements of A in B\n",
    "* reassign reference A to the new array \n",
    "\n",
    "common approach, new array should be 2 x bigger than existing array"
   ],
   "metadata": {
    "collapsed": false,
    "pycharm": {
     "name": "#%% md\n"
    }
   }
  },
  {
   "cell_type": "markdown",
   "source": [
    "### Dynamic array implementation"
   ],
   "metadata": {
    "collapsed": false,
    "pycharm": {
     "name": "#%% md\n"
    }
   }
  },
  {
   "cell_type": "code",
   "execution_count": 38,
   "outputs": [],
   "source": [
    "import ctypes\n",
    "#planning\n",
    "# dynarry class must implement\n",
    "# append element, \n",
    "# index element\n",
    "# resize array\n",
    "# length of elements\n",
    "class DynamicArray(object):\n",
    "    '''\n",
    "    DYNAMIC ARRAY CLASS (Similar to Python List)\n",
    "    '''\n",
    "    \n",
    "    def __init__(self):\n",
    "        self.n = 0 # Count actual elements (Default is 0)\n",
    "        self.capacity = 1 # Default Capacity\n",
    "        self.A = self._make_array(self.capacity)\n",
    "        \n",
    "    def __len__(self):\n",
    "        \"\"\"\n",
    "        Return number of elements sorted in array\n",
    "        \"\"\"\n",
    "        return self.n\n",
    "    \n",
    "    def __getitem__(self,k):\n",
    "        \"\"\"\n",
    "        Return element at index k\n",
    "        \"\"\"\n",
    "        if not (0 <= k <self.n):\n",
    "            return IndexError('K is out of bounds!') # Check it k index is in bounds of array\n",
    "        \n",
    "        return self.A[k] #Retrieve from array at index k\n",
    "        \n",
    "    def append(self, ele):\n",
    "        \"\"\"\n",
    "        Add element to end of the array\n",
    "        \"\"\"\n",
    "        if self.n == self.capacity:\n",
    "            self._resize(2*self.capacity) #Double capacity if not enough room\n",
    "        \n",
    "        self.A[self.n] = ele #Set self.n index to element\n",
    "        self.n += 1\n",
    "        \n",
    "    def _resize(self,new_cap):\n",
    "        \"\"\"\n",
    "        Resize internal array to capacity new_cap\n",
    "        \"\"\"\n",
    "        print('called _resize() curr capacity:{} new capacity:{}'\n",
    "              .format(self.capacity,new_cap))\n",
    "      \n",
    "        B = self._make_array(new_cap) # New bigger array\n",
    "        \n",
    "        for k in range(self.n): # Reference all existing values\n",
    "            B[k] = self.A[k]\n",
    "            \n",
    "        self.A = B # Call A the new bigger array\n",
    "        self.capacity = new_cap # Reset the capacity\n",
    "        \n",
    "    def _make_array(self,new_cap):\n",
    "        \"\"\"\n",
    "        Returns a new array with new_cap capacity\n",
    "        \"\"\"\n",
    "        return (new_cap * ctypes.py_object)()"
   ],
   "metadata": {
    "collapsed": false,
    "pycharm": {
     "name": "#%%\n",
     "is_executing": false
    }
   }
  },
  {
   "cell_type": "code",
   "execution_count": 39,
   "outputs": [
    {
     "name": "stdout",
     "text": [
      "called _resize() curr capacity:1 new capacity:2\ncalled _resize() curr capacity:2 new capacity:4\ncalled _resize() curr capacity:4 new capacity:8\n6\n"
     ],
     "output_type": "stream"
    }
   ],
   "source": [
    "ar=DynamicArray()\n",
    "ar.append(1)\n",
    "ar.append(2)\n",
    "ar.append(3)\n",
    "ar.append(4)\n",
    "ar.append(5)\n",
    "ar.append(6)\n",
    "pp(len(ar))"
   ],
   "metadata": {
    "collapsed": false,
    "pycharm": {
     "name": "#%%\n",
     "is_executing": false
    }
   }
  },
  {
   "cell_type": "code",
   "execution_count": 41,
   "outputs": [
    {
     "data": {
      "text/plain": "IndexError('K is out of bounds!')"
     },
     "metadata": {},
     "output_type": "execute_result",
     "execution_count": 41
    }
   ],
   "source": [],
   "metadata": {
    "collapsed": false,
    "pycharm": {
     "name": "#%%\n",
     "is_executing": false
    }
   }
  },
  {
   "cell_type": "code",
   "execution_count": null,
   "outputs": [],
   "source": [
    "\n"
   ],
   "metadata": {
    "collapsed": false,
    "pycharm": {
     "name": "#%%\n"
    }
   }
  }
 ],
 "metadata": {
  "language_info": {
   "codemirror_mode": {
    "name": "ipython",
    "version": 2
   },
   "file_extension": ".py",
   "mimetype": "text/x-python",
   "name": "python",
   "nbconvert_exporter": "python",
   "pygments_lexer": "ipython2",
   "version": "2.7.6"
  },
  "kernelspec": {
   "name": "python3",
   "language": "python",
   "display_name": "Python 3"
  },
  "pycharm": {
   "stem_cell": {
    "cell_type": "raw",
    "source": [],
    "metadata": {
     "collapsed": false
    }
   }
  }
 },
 "nbformat": 4,
 "nbformat_minor": 0
}