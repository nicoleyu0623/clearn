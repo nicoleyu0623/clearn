{
 "cells": [
  {
   "cell_type": "code",
   "execution_count": 1,
   "metadata": {},
   "outputs": [],
   "source": [
    "def uni_char_szi(s):\n",
    "    if len(s) == 0:\n",
    "        return True\n",
    "    seen={}\n",
    "    for c in s:\n",
    "        if c not in seen:\n",
    "            seen[c] = 1\n",
    "        else:\n",
    "            return False\n",
    "    return True\n",
    "\n",
    "def uni_char_szi_n2(s):\n",
    "    if len(s) == 0:\n",
    "        return True\n",
    "    seen=[s[0]]\n",
    "    for i in range(1,len(s)):\n",
    "        for j in range(len(seen)):\n",
    "            if s[i] == seen[j]:\n",
    "                return False\n",
    "        seen.append(s[i])\n",
    "    return True"
   ]
  },
  {
   "cell_type": "code",
   "execution_count": 4,
   "metadata": {},
   "outputs": [
    {
     "name": "stdout",
     "output_type": "stream",
     "text": [
      "1.4 µs ± 9.89 ns per loop (mean ± std. dev. of 7 runs, 1000000 loops each)\n",
      "11.5 µs ± 732 ns per loop (mean ± std. dev. of 7 runs, 100000 loops each)\n"
     ]
    }
   ],
   "source": [
    "%timeit uni_char_szi('abcdefgijk')\n",
    "%timeit uni_char_szi_n2('abcdefgijk')"
   ]
  },
  {
   "cell_type": "code",
   "execution_count": 3,
   "metadata": {},
   "outputs": [
    {
     "data": {
      "text/plain": [
       "True"
      ]
     },
     "execution_count": 3,
     "metadata": {},
     "output_type": "execute_result"
    }
   ],
   "source": []
  },
  {
   "cell_type": "code",
   "execution_count": null,
   "metadata": {},
   "outputs": [],
   "source": []
  }
 ],
 "metadata": {
  "kernelspec": {
   "display_name": "Python 3",
   "language": "python",
   "name": "python3"
  },
  "language_info": {
   "codemirror_mode": {
    "name": "ipython",
    "version": 3
   },
   "file_extension": ".py",
   "mimetype": "text/x-python",
   "name": "python",
   "nbconvert_exporter": "python",
   "pygments_lexer": "ipython3",
   "version": "3.6.5"
  }
 },
 "nbformat": 4,
 "nbformat_minor": 4
}
